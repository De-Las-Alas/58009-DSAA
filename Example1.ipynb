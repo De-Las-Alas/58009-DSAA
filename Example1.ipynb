{
  "cells": [
    {
      "cell_type": "markdown",
      "metadata": {
        "id": "view-in-github",
        "colab_type": "text"
      },
      "source": [
        "<a href=\"https://colab.research.google.com/github/De-Las-Alas/58009-DSAA/blob/main/Example1.ipynb\" target=\"_parent\"><img src=\"https://colab.research.google.com/assets/colab-badge.svg\" alt=\"Open In Colab\"/></a>"
      ]
    },
    {
      "cell_type": "markdown",
      "source": [
        "Solve for the area of a rectangle."
      ],
      "metadata": {
        "id": "38EIsqiTxtCQ"
      }
    },
    {
      "cell_type": "code",
      "source": [
        "class rectangle():\n",
        "    def __init__(self,length,width):\n",
        "        self.length=length\n",
        "        self.width=width\n",
        "    def area(self):\n",
        "        return self.length*self.width\n",
        "l=int(input(\"Enter length of rectangle: \"))\n",
        "w=int(input(\"Enter width of rectangle: \"))\n",
        "Area=rectangle(l,w)\n",
        "print(\"Area of rectangle:\",Area.area())"
      ],
      "metadata": {
        "id": "41oeYivExyqq",
        "outputId": "c6eb0407-5066-4060-b7b9-a38c131b4278",
        "colab": {
          "base_uri": "https://localhost:8080/"
        }
      },
      "execution_count": 14,
      "outputs": [
        {
          "output_type": "stream",
          "name": "stdout",
          "text": [
            "Enter length of rectangle: 3\n",
            "Enter width of rectangle: 6\n",
            "Area of rectangle: 18\n"
          ]
        }
      ]
    }
  ],
  "metadata": {
    "colab": {
      "name": "Welcome To Colaboratory",
      "toc_visible": true,
      "provenance": [],
      "include_colab_link": true
    },
    "kernelspec": {
      "display_name": "Python 3",
      "name": "python3"
    }
  },
  "nbformat": 4,
  "nbformat_minor": 0
}