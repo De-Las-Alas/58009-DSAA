{
  "cells": [
    {
      "cell_type": "markdown",
      "metadata": {
        "id": "view-in-github",
        "colab_type": "text"
      },
      "source": [
        "<a href=\"https://colab.research.google.com/github/De-Las-Alas/58009-DSAA/blob/main/Activity1.ipynb\" target=\"_parent\"><img src=\"https://colab.research.google.com/assets/colab-badge.svg\" alt=\"Open In Colab\"/></a>"
      ]
    },
    {
      "cell_type": "markdown",
      "source": [
        "1. Write a Python program to create an array of 10 integers and display the array items. Access individual elements through indexes and compute for the sum."
      ],
      "metadata": {
        "id": "mIWk5ZZWlNvB"
      }
    },
    {
      "cell_type": "code",
      "source": [
        "numbers0to9 = [0, 1, 2, 3, 4, 5, 6, 7, 8, 9]\n",
        "\n",
        "print(\"List of Numbers 0-9:\")\n",
        "\n",
        "for z in numbers0to9:\n",
        "  print(z)\n",
        "\n",
        "print(\"\\nSum of Numbers:\")\n",
        "\n",
        "def sum_numbers(numbers0to9):\n",
        "  return sum(numbers0to9)\n",
        "print(sum_numbers(numbers0to9))\n",
        "\n",
        "print(\"\\nIndex List of Numbers:\")\n",
        "\n",
        "for z in numbers0to9:\n",
        "  print(z, \"=\", numbers0to9.index(0) + z)"
      ],
      "metadata": {
        "id": "AZqYXydrlSNA",
        "outputId": "c4277adf-9b46-4282-8dd7-404495af459d",
        "colab": {
          "base_uri": "https://localhost:8080/"
        }
      },
      "execution_count": 51,
      "outputs": [
        {
          "output_type": "stream",
          "name": "stdout",
          "text": [
            "List of Numbers 0-9:\n",
            "0\n",
            "1\n",
            "2\n",
            "3\n",
            "4\n",
            "5\n",
            "6\n",
            "7\n",
            "8\n",
            "9\n",
            "\n",
            "Sum of Numbers:\n",
            "45\n",
            "\n",
            "Index List of Numbers:\n",
            "0 = 0\n",
            "1 = 1\n",
            "2 = 2\n",
            "3 = 3\n",
            "4 = 4\n",
            "5 = 5\n",
            "6 = 6\n",
            "7 = 7\n",
            "8 = 8\n",
            "9 = 9\n"
          ]
        }
      ]
    },
    {
      "cell_type": "markdown",
      "source": [
        "2. Write a Python program to append a new item to the end of the array. Original array: numbers = [1, 2, 3, 4, 5, 6, 7, 8, 9, 10]"
      ],
      "metadata": {
        "id": "ecAUsizyoZCG"
      }
    },
    {
      "cell_type": "code",
      "source": [
        "numbers = [1, 2, 3, 4, 5, 6, 7, 8, 9, 10]\n",
        "numbers.append(11)\n",
        "print(numbers)"
      ],
      "metadata": {
        "id": "V2KfuoJHodh2",
        "outputId": "ea415c80-a589-4017-906e-28c6ab60bdd1",
        "colab": {
          "base_uri": "https://localhost:8080/"
        }
      },
      "execution_count": 52,
      "outputs": [
        {
          "output_type": "stream",
          "name": "stdout",
          "text": [
            "[1, 2, 3, 4, 5, 6, 7, 8, 9, 10, 11]\n"
          ]
        }
      ]
    },
    {
      "cell_type": "markdown",
      "source": [
        "3. Write a Python program to insert a new item before the second element in an existing array. Original array: numbers = [1, 2, 3, 4, 5, 6, 7, 8, 9, 10]"
      ],
      "metadata": {
        "id": "zWoshOhAow5k"
      }
    },
    {
      "cell_type": "code",
      "source": [
        "numbers = [1, 2, 3, 4, 5, 6, 7, 8, 9, 10]\n",
        "numbers.insert(1,99)\n",
        "print(numbers)"
      ],
      "metadata": {
        "id": "Q6usbdE3o4Sq",
        "outputId": "0b3ad29b-780e-4fda-da3e-e2289f3d0135",
        "colab": {
          "base_uri": "https://localhost:8080/"
        }
      },
      "execution_count": 53,
      "outputs": [
        {
          "output_type": "stream",
          "name": "stdout",
          "text": [
            "[1, 99, 2, 3, 4, 5, 6, 7, 8, 9, 10]\n"
          ]
        }
      ]
    },
    {
      "cell_type": "markdown",
      "source": [
        "4. Write a Python program to reverse the order of the items in the array. Original array: numbers = [5, 4, 3, 2, 1]"
      ],
      "metadata": {
        "id": "Bfx0YEe4pUXC"
      }
    },
    {
      "cell_type": "code",
      "source": [
        "numbers = [5, 4, 3, 2, 1]\n",
        "numbers.sort(reverse = False)\n",
        "print(numbers)"
      ],
      "metadata": {
        "id": "apjXFMFwpY03",
        "outputId": "7950884e-ca21-4d74-bee2-1cc114edd202",
        "colab": {
          "base_uri": "https://localhost:8080/"
        }
      },
      "execution_count": 55,
      "outputs": [
        {
          "output_type": "stream",
          "name": "stdout",
          "text": [
            "[1, 2, 3, 4, 5]\n"
          ]
        }
      ]
    },
    {
      "cell_type": "markdown",
      "source": [
        "5. Write a Python program to get the length of the array. Original array: numbers = [5, 4, 3, 2, 1]"
      ],
      "metadata": {
        "id": "JFrrd1_4psIX"
      }
    },
    {
      "cell_type": "code",
      "source": [
        "numbers = [5, 4, 3, 2, 1]\n",
        "z = len(numbers)\n",
        "print(z)"
      ],
      "metadata": {
        "id": "jRFIOjN9pw1s",
        "outputId": "c1edad04-4877-4e04-e33e-6d485018a879",
        "colab": {
          "base_uri": "https://localhost:8080/"
        }
      },
      "execution_count": 56,
      "outputs": [
        {
          "output_type": "stream",
          "name": "stdout",
          "text": [
            "5\n"
          ]
        }
      ]
    }
  ],
  "metadata": {
    "colab": {
      "name": "Welcome To Colaboratory",
      "toc_visible": true,
      "provenance": [],
      "include_colab_link": true
    },
    "kernelspec": {
      "display_name": "Python 3",
      "name": "python3"
    }
  },
  "nbformat": 4,
  "nbformat_minor": 0
}