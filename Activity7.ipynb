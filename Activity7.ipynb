{
  "cells": [
    {
      "cell_type": "markdown",
      "metadata": {
        "id": "view-in-github",
        "colab_type": "text"
      },
      "source": [
        "<a href=\"https://colab.research.google.com/github/De-Las-Alas/58009-DSAA/blob/main/Activity7.ipynb\" target=\"_parent\"><img src=\"https://colab.research.google.com/assets/colab-badge.svg\" alt=\"Open In Colab\"/></a>"
      ]
    },
    {
      "cell_type": "markdown",
      "source": [
        "#Base Example"
      ],
      "metadata": {
        "id": "L2bqPZr2Pnxg"
      }
    },
    {
      "cell_type": "code",
      "source": [
        "#Display Graph Edges\n",
        "class graph:\n",
        "  def __init__(self,gdict=None):\n",
        "    if gdict is None:\n",
        "      gdict = {}\n",
        "    self.gdict = gdict\n",
        "\n",
        "  def edges(self):\n",
        "    return self.findedges()\n",
        "\n",
        "# Find the distinct list of edges\n",
        "  def findedges(self):\n",
        "    edgename = []\n",
        "    for vrtx in self.gdict:\n",
        "      for nxtvrtx in self.gdict[vrtx]:\n",
        "        if {nxtvrtx, vrtx} not in edgename:\n",
        "          edgename.append({vrtx, nxtvrtx})\n",
        "    return edgename\n",
        "\n",
        "# Create the dictionary with graph elements\n",
        "graph_elements = {\n",
        "    \"a\" : [\"b\",\"c\"],\n",
        "    \"b\" : [\"a\", \"d\"],\n",
        "    \"c\" : [\"a\", \"d\"],\n",
        "    \"d\" : [\"e\"],\n",
        "    \"e\" : [\"d\"]\n",
        "}\n",
        "g = graph(graph_elements)\n",
        "print(g.edges())"
      ],
      "metadata": {
        "id": "04uq7M1SNXao",
        "outputId": "7e546908-4e2e-468c-85db-dbfc98b5cf32",
        "colab": {
          "base_uri": "https://localhost:8080/"
        }
      },
      "execution_count": 13,
      "outputs": [
        {
          "output_type": "stream",
          "name": "stdout",
          "text": [
            "[{'a', 'b'}, {'a', 'c'}, {'d', 'b'}, {'c', 'd'}, {'d', 'e'}]\n"
          ]
        }
      ]
    },
    {
      "cell_type": "code",
      "source": [
        "#Display Graph Vertices\n",
        "class graph:\n",
        "  def __init__(self,gdict=None):\n",
        "    self.gdict = gdict\n",
        "    if gdict is None:\n",
        "      gdict = []\n",
        "\n",
        "# Get the keys of the dictionary\n",
        "  def getVertices(self):\n",
        "    return list(self.gdict.keys())\n",
        "\n",
        "# Create the dictionary with graph elements\n",
        "graph_elements = {\n",
        "    \"a\" : [\"b\",\"c\"],\n",
        "    \"b\" : [\"a\", \"d\"],\n",
        "    \"c\" : [\"a\", \"d\"],\n",
        "    \"d\" : [\"e\"],\n",
        "    \"e\" : [\"d\"]\n",
        "}\n",
        "\n",
        "g = graph(graph_elements)\n",
        "\n",
        "print(g.getVertices())"
      ],
      "metadata": {
        "id": "G2VFf20VNXKi",
        "outputId": "5af22120-26e6-4b08-83d7-03f9da8c2bba",
        "colab": {
          "base_uri": "https://localhost:8080/"
        }
      },
      "execution_count": 14,
      "outputs": [
        {
          "output_type": "stream",
          "name": "stdout",
          "text": [
            "['a', 'b', 'c', 'd', 'e']\n"
          ]
        }
      ]
    },
    {
      "cell_type": "markdown",
      "source": [
        "#Graph15"
      ],
      "metadata": {
        "id": "wsH3S2-gNXvB"
      }
    },
    {
      "cell_type": "code",
      "source": [
        "#Display Graph Edges\n",
        "class graph:\n",
        "  def __init__(self,gdict=None):\n",
        "    if gdict is None:\n",
        "      gdict = {}\n",
        "    self.gdict = gdict\n",
        "\n",
        "  def edges(self):\n",
        "    return self.findedges()\n",
        "\n",
        "# Find the distinct list of edges\n",
        "  def findedges(self):\n",
        "    edgename = []\n",
        "    for vrtx in self.gdict:\n",
        "      for nxtvrtx in self.gdict[vrtx]:\n",
        "        if {nxtvrtx, vrtx} not in edgename:\n",
        "          edgename.append({vrtx, nxtvrtx})\n",
        "    return edgename\n",
        "\n",
        "# Create the dictionary with graph elements\n",
        "graph_elements = {\n",
        "    \"r\" : [\"v\"],\n",
        "    \"s\" : [\"r\",\"w\"],\n",
        "    \"t\" : [\"u\",\"w\",\"x\"],\n",
        "    \"u\" : [\"t\",\"x\",\"y\"],\n",
        "    \"w\" : [\"t\", \"x\"],\n",
        "    \"x\" : [\"t\",\"u\",\"w\",\"y\"],\n",
        "    \"y\" : [\"u\",\"x\"]\n",
        "}\n",
        "g = graph(graph_elements)\n",
        "print(g.edges())"
      ],
      "metadata": {
        "id": "F1ZM1cxnDVmo",
        "outputId": "4c2483ce-a66a-43f5-bad7-27eed277d288",
        "colab": {
          "base_uri": "https://localhost:8080/"
        }
      },
      "execution_count": 12,
      "outputs": [
        {
          "output_type": "stream",
          "name": "stdout",
          "text": [
            "[{'v', 'r'}, {'r', 's'}, {'w', 's'}, {'t', 'u'}, {'w', 't'}, {'t', 'x'}, {'x', 'u'}, {'y', 'u'}, {'w', 'x'}, {'x', 'y'}]\n"
          ]
        }
      ]
    },
    {
      "cell_type": "code",
      "source": [
        "#Display Graph Vertices\n",
        "class graph:\n",
        "  def __init__(self,gdict=None):\n",
        "    self.gdict = gdict\n",
        "    if gdict is None:\n",
        "      gdict = []\n",
        "\n",
        "# Get the keys of the dictionary\n",
        "  def getVertices(self):\n",
        "    return list(self.gdict.keys())\n",
        "\n",
        "# Create the dictionary with graph elements\n",
        "graph_elements = {\n",
        "    \"r\" : [\"v\"],\n",
        "    \"s\" : [\"r\",\"w\"],\n",
        "    \"t\" : [\"u\",\"w\",\"x\"],\n",
        "    \"u\" : [\"t\",\"x\",\"y\"],\n",
        "    \"w\" : [\"t\", \"x\"],\n",
        "    \"x\" : [\"t\",\"u\",\"w\",\"y\"],\n",
        "    \"y\" : [\"u\",\"x\"]\n",
        "}\n",
        "\n",
        "g = graph(graph_elements)\n",
        "\n",
        "print(g.getVertices())"
      ],
      "metadata": {
        "id": "xppGESEtE3Qo",
        "outputId": "e9d94023-4493-4547-f6e2-94fbb99d6464",
        "colab": {
          "base_uri": "https://localhost:8080/"
        }
      },
      "execution_count": 11,
      "outputs": [
        {
          "output_type": "stream",
          "name": "stdout",
          "text": [
            "['r', 's', 't', 'u', 'w', 'x', 'y']\n"
          ]
        }
      ]
    },
    {
      "cell_type": "markdown",
      "source": [
        "#Graph18"
      ],
      "metadata": {
        "id": "52TtyESvNgLp"
      }
    },
    {
      "cell_type": "code",
      "source": [
        "#Display Graph Edges\n",
        "class graph:\n",
        "  def __init__(self,gdict=None):\n",
        "    if gdict is None:\n",
        "      gdict = {}\n",
        "    self.gdict = gdict\n",
        "\n",
        "  def edges(self):\n",
        "    return self.findedges()\n",
        "\n",
        "# Find the distinct list of edges\n",
        "  def findedges(self):\n",
        "    edgename = []\n",
        "    for vrtx in self.gdict:\n",
        "      for nxtvrtx in self.gdict[vrtx]:\n",
        "        if {nxtvrtx, vrtx} not in edgename:\n",
        "          edgename.append({vrtx, nxtvrtx})\n",
        "    return edgename\n",
        "\n",
        "# Create the dictionary with graph elements\n",
        "graph_elements = {\n",
        "    \"1\" : [\"2\",\"3\",\"5\",\"6\"],\n",
        "    \"2\" : [\"1\",\"3\",\"4\",\"5\",\"6\"],\n",
        "    \"3\" : [\"1\",\"2\",\"4\",\"5\"],\n",
        "    \"4\" : [\"2\",\"3\"],\n",
        "    \"5\" : [\"1\",\"2\",\"3\"],\n",
        "    \"6\" : [\"1\",\"2\"]\n",
        "}\n",
        "g = graph(graph_elements)\n",
        "print(g.edges())"
      ],
      "metadata": {
        "id": "L9LfYW0dNiO8",
        "outputId": "5cb92885-3ed3-4d19-fde6-23ae83d0ab81",
        "colab": {
          "base_uri": "https://localhost:8080/"
        }
      },
      "execution_count": 15,
      "outputs": [
        {
          "output_type": "stream",
          "name": "stdout",
          "text": [
            "[{'2', '1'}, {'1', '3'}, {'5', '1'}, {'1', '6'}, {'2', '3'}, {'4', '2'}, {'5', '2'}, {'2', '6'}, {'4', '3'}, {'5', '3'}]\n"
          ]
        }
      ]
    },
    {
      "cell_type": "code",
      "source": [
        "#Display Graph Vertices\n",
        "class graph:\n",
        "  def __init__(self,gdict=None):\n",
        "    self.gdict = gdict\n",
        "    if gdict is None:\n",
        "      gdict = []\n",
        "\n",
        "# Get the keys of the dictionary\n",
        "  def getVertices(self):\n",
        "    return list(self.gdict.keys())\n",
        "\n",
        "# Create the dictionary with graph elements\n",
        "graph_elements = {\n",
        "    \"1\" : [\"2\",\"3\",\"5\",\"6\"],\n",
        "    \"2\" : [\"1\",\"3\",\"4\",\"5\",\"6\"],\n",
        "    \"3\" : [\"1\",\"2\",\"4\",\"5\"],\n",
        "    \"4\" : [\"2\",\"3\"],\n",
        "    \"5\" : [\"1\",\"2\",\"3\"],\n",
        "    \"6\" : [\"1\",\"2\"]\n",
        "}\n",
        "\n",
        "g = graph(graph_elements)\n",
        "\n",
        "print(g.getVertices())"
      ],
      "metadata": {
        "id": "upSJQn_tNh77",
        "outputId": "16fe9b59-0cb7-4050-b97f-0b6e73f4ab0d",
        "colab": {
          "base_uri": "https://localhost:8080/"
        }
      },
      "execution_count": 16,
      "outputs": [
        {
          "output_type": "stream",
          "name": "stdout",
          "text": [
            "['1', '2', '3', '4', '5', '6']\n"
          ]
        }
      ]
    }
  ],
  "metadata": {
    "colab": {
      "name": "Welcome To Colaboratory",
      "toc_visible": true,
      "provenance": [],
      "include_colab_link": true
    },
    "kernelspec": {
      "display_name": "Python 3",
      "name": "python3"
    }
  },
  "nbformat": 4,
  "nbformat_minor": 0
}