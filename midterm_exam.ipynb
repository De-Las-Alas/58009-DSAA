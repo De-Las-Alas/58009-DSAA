{
  "cells": [
    {
      "cell_type": "markdown",
      "metadata": {
        "id": "view-in-github",
        "colab_type": "text"
      },
      "source": [
        "<a href=\"https://colab.research.google.com/github/De-Las-Alas/58009-DSAA/blob/main/midterm_exam.ipynb\" target=\"_parent\"><img src=\"https://colab.research.google.com/assets/colab-badge.svg\" alt=\"Open In Colab\"/></a>"
      ]
    },
    {
      "cell_type": "markdown",
      "source": [
        "1. All pertinent solutions must be uploaded together with the link of your GitHub. Name your python file as midterm_exam\n",
        "2. Implement the graph using Python dictionaries. This must display all the vertices and edges of the graph."
      ],
      "metadata": {
        "id": "tRvlpe4aUSV-"
      }
    },
    {
      "cell_type": "code",
      "source": [
        "#Class\n",
        "class graph29:\n",
        "  def __init__(self,gdict=None):\n",
        "    if gdict is None:\n",
        "      gdict = {}\n",
        "    self.gdict = gdict\n",
        "\n",
        "#Vertices\n",
        "  def getVertices(self):\n",
        "    return list(self.gdict.keys())\n",
        "\n",
        "#Edges\n",
        "  def edges(self):\n",
        "    return self.findedges()\n",
        "\n",
        "  def findedges(self):\n",
        "    edgename = []\n",
        "    for vrtx in self.gdict:\n",
        "      for nxtvrtx in self.gdict[vrtx]:\n",
        "        if {nxtvrtx, vrtx} not in edgename:\n",
        "          edgename.append({vrtx, nxtvrtx})\n",
        "    return edgename\n",
        "\n",
        "#Dictionary\n",
        "graph_elements = {\n",
        "    \"A\" : [\"B\"],\n",
        "    \"B\" : [\"C\", \"E\", \"F\"],\n",
        "    \"C\" : [\"B\", \"D\", \"E\", \"F\", \"I\", \"M\"],\n",
        "    \"D\" : [\"C\", \"K\", \"L\"],\n",
        "    \"E\" : [\"B\", \"C\", \"M\", \"N\"],\n",
        "    \"F\" : [\"B\", \"C\", \"G\", \"I\"],\n",
        "    \"G\" : [\"F\", \"I\", \"J\"],\n",
        "    \"I\" : [\"C\", \"F\", \"G\", \"J\", \"K\"],\n",
        "    \"J\" : [\"G\", \"I\", \"K\"],\n",
        "    \"K\" : [\"D\", \"I\", \"J\"],\n",
        "    \"L\" : [\"D\", \"M\", \"P\"],\n",
        "    \"M\" : [\"C\", \"L\", \"N\", \"O\", \"P\"],\n",
        "    \"N\" : [\"E\", \"M\", \"O\", \"P\"],\n",
        "    \"O\" : [\"M\", \"N\", \"P\"],\n",
        "    \"P\" : [\"L\", \"M\", \"O\"]\n",
        "}\n",
        "g = graph29(graph_elements)\n",
        "print(f\"Graph 29's\\nVertices: {g.getVertices()}\\nEdges: {g.edges()}\")"
      ],
      "metadata": {
        "id": "Q0FB_XeSURJd",
        "outputId": "75171dbe-2f29-4f59-c779-611e34323139",
        "colab": {
          "base_uri": "https://localhost:8080/"
        }
      },
      "execution_count": 5,
      "outputs": [
        {
          "output_type": "stream",
          "name": "stdout",
          "text": [
            "Graph 29's\n",
            "Vertices: ['A', 'B', 'C', 'D', 'E', 'F', 'G', 'I', 'J', 'K', 'L', 'M', 'N', 'O', 'P']\n",
            "Edges: [{'B', 'A'}, {'B', 'C'}, {'B', 'E'}, {'B', 'F'}, {'D', 'C'}, {'C', 'E'}, {'C', 'F'}, {'C', 'I'}, {'M', 'C'}, {'K', 'D'}, {'L', 'D'}, {'M', 'E'}, {'N', 'E'}, {'G', 'F'}, {'F', 'I'}, {'G', 'I'}, {'J', 'G'}, {'J', 'I'}, {'K', 'I'}, {'K', 'J'}, {'L', 'M'}, {'L', 'P'}, {'M', 'N'}, {'M', 'O'}, {'M', 'P'}, {'N', 'O'}, {'N', 'P'}, {'P', 'O'}]\n"
          ]
        }
      ]
    }
  ],
  "metadata": {
    "colab": {
      "name": "Welcome To Colaboratory",
      "toc_visible": true,
      "provenance": [],
      "include_colab_link": true
    },
    "kernelspec": {
      "display_name": "Python 3",
      "name": "python3"
    }
  },
  "nbformat": 4,
  "nbformat_minor": 0
}