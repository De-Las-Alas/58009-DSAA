{
  "cells": [
    {
      "cell_type": "markdown",
      "metadata": {
        "id": "view-in-github",
        "colab_type": "text"
      },
      "source": [
        "<a href=\"https://colab.research.google.com/github/De-Las-Alas/58009-DSAA/blob/main/LongQuiz2.ipynb\" target=\"_parent\"><img src=\"https://colab.research.google.com/assets/colab-badge.svg\" alt=\"Open In Colab\"/></a>"
      ]
    },
    {
      "cell_type": "code",
      "source": [
        "#Class\n",
        "class graph28:\n",
        "  def __init__(self,gdict=None):\n",
        "    if gdict is None:\n",
        "      gdict = {}\n",
        "    self.gdict = gdict\n",
        "\n",
        "#Vertices\n",
        "  def getVertices(self):\n",
        "    return list(self.gdict.keys())\n",
        "\n",
        "#Edges\n",
        "  def edges(self):\n",
        "    return self.findedges()\n",
        "\n",
        "  def findedges(self):\n",
        "    edgename = []\n",
        "    for vrtx in self.gdict:\n",
        "      for nxtvrtx in self.gdict[vrtx]:\n",
        "        if {nxtvrtx, vrtx} not in edgename:\n",
        "          edgename.append({vrtx, nxtvrtx})\n",
        "    return edgename\n",
        "\n",
        "#Dictionary\n",
        "graph_elements = {\n",
        "    \"E\" : [\"I\", \"J\", \"K\", \"M\"],\n",
        "    \"F\" : [\"I\", \"J\", \"K\", \"P\"],\n",
        "    \"H\" : [\"I\", \"J\", \"K\"],\n",
        "    \"I\" : [\"E\",\"F\",\"H\"],\n",
        "    \"J\" : [\"E\",\"F\",\"H\"],\n",
        "    \"K\" : [\"E\",\"F\",\"H\"],\n",
        "    \"M\" : [\"E\"],\n",
        "    \"P\" : [\"F\"]\n",
        "}\n",
        "g = graph28(graph_elements)\n",
        "print(f\"Graph 28's\\nVertices: {g.getVertices()}\\nEdges: {g.edges()}\")"
      ],
      "metadata": {
        "id": "4nOVuXMpx3o5",
        "outputId": "55fcc06a-bd0c-4f1e-8b11-b8e4a4841cd3",
        "colab": {
          "base_uri": "https://localhost:8080/"
        }
      },
      "execution_count": 4,
      "outputs": [
        {
          "output_type": "stream",
          "name": "stdout",
          "text": [
            "Graph 28's\n",
            "Vertices: ['E', 'F', 'H', 'I', 'J', 'K', 'M', 'P']\n",
            "Edges: [{'E', 'I'}, {'E', 'J'}, {'E', 'K'}, {'E', 'M'}, {'F', 'I'}, {'F', 'J'}, {'F', 'K'}, {'P', 'F'}, {'I', 'H'}, {'J', 'H'}, {'H', 'K'}]\n"
          ]
        }
      ]
    }
  ],
  "metadata": {
    "colab": {
      "name": "Welcome To Colaboratory",
      "toc_visible": true,
      "provenance": [],
      "include_colab_link": true
    },
    "kernelspec": {
      "display_name": "Python 3",
      "name": "python3"
    }
  },
  "nbformat": 4,
  "nbformat_minor": 0
}