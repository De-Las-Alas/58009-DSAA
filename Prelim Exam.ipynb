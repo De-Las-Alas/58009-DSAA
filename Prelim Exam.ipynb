{
  "cells": [
    {
      "cell_type": "markdown",
      "metadata": {
        "id": "view-in-github",
        "colab_type": "text"
      },
      "source": [
        "<a href=\"https://colab.research.google.com/github/De-Las-Alas/58009-DSAA/blob/main/Prelim%20Exam.ipynb\" target=\"_parent\"><img src=\"https://colab.research.google.com/assets/colab-badge.svg\" alt=\"Open In Colab\"/></a>"
      ]
    },
    {
      "cell_type": "markdown",
      "source": [
        "#Open your Python (Pycharm or Colab) or Dev C++ to create the source code for adding the test scores 26, 49, 98, 87, 62, 75 (30 points). Create a program to sort the test scores in ascending order (20 points)."
      ],
      "metadata": {
        "id": "4nTiglX87tbd"
      }
    },
    {
      "cell_type": "code",
      "source": [
        "jk = []\n",
        "\n",
        "jk.append(26)\n",
        "jk.append(49)\n",
        "jk.append(98)\n",
        "jk.append(87)\n",
        "jk.append(62)\n",
        "jk.append(75)\n",
        "\n",
        "jk.sort(reverse = False)\n",
        "\n",
        "print(jk)"
      ],
      "metadata": {
        "id": "9y0XvaxW70T0",
        "outputId": "b47a42ff-3f98-4c9f-cc14-b2e3aa515f91",
        "colab": {
          "base_uri": "https://localhost:8080/"
        }
      },
      "execution_count": 6,
      "outputs": [
        {
          "output_type": "stream",
          "name": "stdout",
          "text": [
            "\n",
            "[26, 49, 62, 75, 87, 98]\n"
          ]
        }
      ]
    }
  ],
  "metadata": {
    "colab": {
      "name": "Welcome To Colaboratory",
      "toc_visible": true,
      "provenance": [],
      "include_colab_link": true
    },
    "kernelspec": {
      "display_name": "Python 3",
      "name": "python3"
    }
  },
  "nbformat": 4,
  "nbformat_minor": 0
}