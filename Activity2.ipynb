{
  "cells": [
    {
      "cell_type": "markdown",
      "metadata": {
        "id": "view-in-github",
        "colab_type": "text"
      },
      "source": [
        "<a href=\"https://colab.research.google.com/github/De-Las-Alas/58009-DSAA/blob/main/Activity2.ipynb\" target=\"_parent\"><img src=\"https://colab.research.google.com/assets/colab-badge.svg\" alt=\"Open In Colab\"/></a>"
      ]
    },
    {
      "cell_type": "markdown",
      "source": [
        "Write a Python program to create a singly linked list of prime numbers less than 20. By iterating through the list, display all the prime numbers, the head, and the tail of the list."
      ],
      "metadata": {
        "id": "wjXdR3rWi48Z"
      }
    },
    {
      "cell_type": "code",
      "source": [
        "class Node:\n",
        "  def __init__(self, data):\n",
        "    self.data = data\n",
        "    self.next = None\n",
        "class LinkedList:\n",
        "  def __init__(self):\n",
        "    self.head = None\n",
        "    self.tail = None\n",
        "  def printlist(self):\n",
        "    temp = self.head\n",
        "    while(temp):\n",
        "      print(temp.data)\n",
        "      temp = temp.next\n",
        "\n",
        "if __name__=='__main__':\n",
        "  llist = LinkedList()\n",
        "  llist.head = Node(\"Head: 2\")\n",
        "  second = Node(3)\n",
        "  third = Node(5)\n",
        "  fourth = Node(7)\n",
        "  fifth = Node(11)\n",
        "  sixth = Node(13)\n",
        "  seventh = Node(17)\n",
        "  llist.tail = Node(\"Tail: 19\")\n",
        "\n",
        "  llist.head.next = second;\n",
        "  second.next = third;\n",
        "  third.next = fourth;\n",
        "  fourth.next = fifth;\n",
        "  fifth.next = sixth;\n",
        "  sixth.next = seventh;\n",
        "  seventh.next = llist.tail\n",
        "\n",
        "llist.printlist()"
      ],
      "metadata": {
        "id": "f7XbmZLFeJWg",
        "outputId": "be99e2c0-e814-4db3-d132-29a1eaf95cac",
        "colab": {
          "base_uri": "https://localhost:8080/"
        }
      },
      "execution_count": 9,
      "outputs": [
        {
          "output_type": "stream",
          "name": "stdout",
          "text": [
            "Head: 2\n",
            "3\n",
            "5\n",
            "7\n",
            "11\n",
            "13\n",
            "17\n",
            "Tail: 19\n"
          ]
        }
      ]
    }
  ],
  "metadata": {
    "colab": {
      "name": "Welcome To Colaboratory",
      "toc_visible": true,
      "provenance": [],
      "include_colab_link": true
    },
    "kernelspec": {
      "display_name": "Python 3",
      "name": "python3"
    }
  },
  "nbformat": 4,
  "nbformat_minor": 0
}