{
  "cells": [
    {
      "cell_type": "markdown",
      "metadata": {
        "id": "view-in-github",
        "colab_type": "text"
      },
      "source": [
        "<a href=\"https://colab.research.google.com/github/De-Las-Alas/58009-DSAA/blob/main/LinkedList.ipynb\" target=\"_parent\"><img src=\"https://colab.research.google.com/assets/colab-badge.svg\" alt=\"Open In Colab\"/></a>"
      ]
    },
    {
      "cell_type": "markdown",
      "source": [
        "#Array Type Codes\n",
        "Example 1:"
      ],
      "metadata": {
        "id": "xrSof1ZltO1s"
      }
    },
    {
      "cell_type": "code",
      "source": [
        "import array\n",
        "a = array.array(\"i\", [1,2,3,4,5,6]) #initializing array a\n",
        "b = array.array(\"f\", [1.5,2.5,3.5,4.5,5.5,6.5]) #initializing array b\n",
        "\n",
        "print(array.typecodes) #get all typecodes\n",
        "\n",
        "print(a.typecode) #getting the typecode of a\n",
        "\n",
        "print(b.typecode) #getting the typecode of b"
      ],
      "metadata": {
        "id": "CdhjhJVKtQ6E",
        "outputId": "44ffbaec-0724-4527-b29f-7781b789ce83",
        "colab": {
          "base_uri": "https://localhost:8080/"
        }
      },
      "execution_count": 46,
      "outputs": [
        {
          "output_type": "stream",
          "name": "stdout",
          "text": [
            "bBuhHiIlLqQfd\n",
            "i\n",
            "f\n"
          ]
        }
      ]
    },
    {
      "cell_type": "markdown",
      "source": [
        "Example 2:\n",
        "What is the output of these codes?"
      ],
      "metadata": {
        "id": "DrjXCmcdt9Nf"
      }
    },
    {
      "cell_type": "code",
      "source": [
        " from array import array # importing array from array module\n",
        " a = array('i',[4,5,6,7]) # initializing array\n",
        " a.insert(1,2) # inserting element: 2 at index: 1\n",
        " a # Printing array aarray('i', [4, 2, 5, 6, 7])\n",
        " a.insert(-1,0) # insert element: 0 at index: -1\n",
        " a\n",
        " a.insert(10, -1) # insert element: -1 at index: 10, this is out of range\n",
        " a\n",
        " array('i', [4, 2, 5, 6, 0, 7, -1])"
      ],
      "metadata": {
        "id": "mGSCqTs6uGEc",
        "outputId": "3d851941-a049-47a7-ba9f-5a7fba85b1e3",
        "colab": {
          "base_uri": "https://localhost:8080/"
        }
      },
      "execution_count": 9,
      "outputs": [
        {
          "output_type": "execute_result",
          "data": {
            "text/plain": [
              "array('i', [4, 2, 5, 6, 0, 7, -1])"
            ]
          },
          "metadata": {},
          "execution_count": 9
        }
      ]
    },
    {
      "cell_type": "markdown",
      "source": [
        "#Linked List\n",
        "Example 3:"
      ],
      "metadata": {
        "id": "_SUW_haxwqFj"
      }
    },
    {
      "cell_type": "code",
      "source": [
        "# Node class\n",
        "class Node:# Function to initialize the node object\n",
        "  def __init__(self, data):\n",
        "    self.data = data # Assign data\n",
        "    self.next = None # Initialize\n",
        "# next as null\n",
        "# Linked List class\n",
        "class LinkedList:# Function to initialize the Linked\n",
        "# List object\n",
        "  def __init__(self):self.head = None"
      ],
      "metadata": {
        "id": "iBWbNK6Kwwwb"
      },
      "execution_count": 12,
      "outputs": []
    },
    {
      "cell_type": "markdown",
      "source": [
        "Example 4:"
      ],
      "metadata": {
        "id": "CjugD1N_xVvh"
      }
    },
    {
      "cell_type": "code",
      "source": [
        "# A simple Python program to introduce a linked list\n",
        "# Node class\n",
        "class Node:\n",
        "# Function to initialize the node object\n",
        "  def __init__(self, data):\n",
        "    self.data = data # Assign data\n",
        "    self.next = None # Initialize next as null\n",
        "# Linked List class contains a Node object\n",
        "class LinkedList:\n",
        "# Function to initialize head\n",
        "  def __init__(self):\n",
        "    self.head = None\n",
        "  def printlist(self):\n",
        "    temp = self.head\n",
        "    while(temp):\n",
        "      print(temp.data)\n",
        "      temp = temp.next\n",
        "\n",
        "# Code execution starts here\n",
        "if __name__=='__main__':# Start with the empty listl\n",
        "  llist = LinkedList()\n",
        "  llist.head = Node(1)\n",
        "  second = Node(2)\n",
        "  third = Node(3)\n",
        "  llist.head.next = second; # Linkfirst node with second\n",
        "  second.next = third; # Linksecond node with the third node\n",
        "\n",
        "llist.printlist()"
      ],
      "metadata": {
        "id": "wAbC0hlZxX01",
        "outputId": "b3282b1f-6346-47d2-d346-aa4490ef4ef9",
        "colab": {
          "base_uri": "https://localhost:8080/"
        }
      },
      "execution_count": 21,
      "outputs": [
        {
          "output_type": "stream",
          "name": "stdout",
          "text": [
            "1\n",
            "2\n",
            "3\n"
          ]
        }
      ]
    },
    {
      "cell_type": "markdown",
      "source": [
        "Example 5:\n",
        "Print data of Link Lists (Traversing the Lists)"
      ],
      "metadata": {
        "id": "ot9g_WFu05Sb"
      }
    },
    {
      "cell_type": "code",
      "source": [
        "class Node:\n",
        "  def __init__(self, data):\n",
        "    self.data = data\n",
        "    self.next = None\n",
        "    self.prev = None\n",
        "\n",
        "class LinkedList:\n",
        "  def __init__(self):\n",
        "    self.head = None\n",
        "    self.tail = None\n",
        "\n",
        "  def printlist(self):\n",
        "    temp = self.head\n",
        "    while(temp):\n",
        "      print(temp.data)\n",
        "      temp = temp.next\n",
        "\n",
        "  def prevlist(self):\n",
        "    temp = self.tail\n",
        "    while(temp):\n",
        "      print(temp.data)\n",
        "      temp = temp.prev\n",
        "\n",
        "if __name__=='__main__':\n",
        "  llist = LinkedList()\n",
        "  llist.head = Node(1)\n",
        "  second = Node(2)\n",
        "  llist.tail = Node(3)\n",
        "\n",
        "  llist.head.next = second;\n",
        "  second.next = llist.tail.prev;\n",
        "  llist.tail.prev = second;\n",
        "  second.prev = llist.head;\n",
        "\n",
        "llist.printlist()\n",
        "llist.prevlist()"
      ],
      "metadata": {
        "id": "j1CvAR7y1Cwn",
        "outputId": "faffb5b2-1118-48d8-e0c8-716e0d726060",
        "colab": {
          "base_uri": "https://localhost:8080/"
        }
      },
      "execution_count": 45,
      "outputs": [
        {
          "output_type": "stream",
          "name": "stdout",
          "text": [
            "1\n",
            "2\n",
            "3\n",
            "2\n",
            "1\n"
          ]
        }
      ]
    },
    {
      "cell_type": "markdown",
      "source": [
        "#Simple Linked List"
      ],
      "metadata": {
        "id": "YkIcPy9UI-eS"
      }
    },
    {
      "cell_type": "code",
      "source": [
        "class Node:\n",
        "  def __init__(self, data):\n",
        "    self.data = data\n",
        "    self.next = None\n",
        "class LinkedList:\n",
        "  def __init__(self):\n",
        "    self.head = None\n",
        "  def printlist(self):\n",
        "    temp = self.head\n",
        "    while(temp):\n",
        "      print(temp.data)\n",
        "      temp = temp.next\n",
        "\n",
        "if __name__=='__main__':\n",
        "  llist = LinkedList()\n",
        "  llist.head = Node(1)\n",
        "  second = Node(2)\n",
        "  third = Node(3)\n",
        "  llist.head.next = second;\n",
        "  second.next = third;\n",
        "\n",
        "llist.printlist()"
      ],
      "metadata": {
        "id": "4D6J91NLJA-8",
        "outputId": "fbafbd35-8073-4695-ea11-499c33f4e97d",
        "colab": {
          "base_uri": "https://localhost:8080/"
        }
      },
      "execution_count": 47,
      "outputs": [
        {
          "output_type": "stream",
          "name": "stdout",
          "text": [
            "1\n",
            "2\n",
            "3\n"
          ]
        }
      ]
    },
    {
      "cell_type": "markdown",
      "source": [
        "#Double Linked List"
      ],
      "metadata": {
        "id": "L6_XokskJNlQ"
      }
    },
    {
      "cell_type": "code",
      "source": [
        "class Node:\n",
        "  def __init__(self, data):\n",
        "    self.data = data\n",
        "    self.next = None\n",
        "    self.prev = None\n",
        "\n",
        "class LinkedList:\n",
        "  def __init__(self):\n",
        "    self.head = None\n",
        "    self.tail = None\n",
        "\n",
        "  def printlist(self):\n",
        "    temp = self.head\n",
        "    while(temp):\n",
        "      print(temp.data)\n",
        "      temp = temp.next\n",
        "\n",
        "  def prevlist(self):\n",
        "    temp = self.tail\n",
        "    while(temp):\n",
        "      print(temp.data)\n",
        "      temp = temp.prev\n",
        "\n",
        "if __name__=='__main__':\n",
        "  llist = LinkedList()\n",
        "  llist.head = Node(1)\n",
        "  second = Node(2)\n",
        "  llist.tail = Node(3)\n",
        "\n",
        "  llist.head.next = second;\n",
        "  second.next = llist.tail.prev;\n",
        "  llist.tail.prev = second;\n",
        "  second.prev = llist.head;\n",
        "\n",
        "llist.printlist()\n",
        "llist.prevlist()"
      ],
      "metadata": {
        "id": "XlcobnMgJPbf",
        "outputId": "fb101c76-8842-4418-90b7-457b4bb1b72e",
        "colab": {
          "base_uri": "https://localhost:8080/"
        }
      },
      "execution_count": 48,
      "outputs": [
        {
          "output_type": "stream",
          "name": "stdout",
          "text": [
            "1\n",
            "2\n",
            "3\n",
            "2\n",
            "1\n"
          ]
        }
      ]
    }
  ],
  "metadata": {
    "colab": {
      "name": "Welcome To Colaboratory",
      "toc_visible": true,
      "provenance": [],
      "include_colab_link": true
    },
    "kernelspec": {
      "display_name": "Python 3",
      "name": "python3"
    }
  },
  "nbformat": 4,
  "nbformat_minor": 0
}