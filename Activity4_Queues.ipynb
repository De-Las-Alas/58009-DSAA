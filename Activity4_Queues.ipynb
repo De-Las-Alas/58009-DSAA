{
  "cells": [
    {
      "cell_type": "markdown",
      "metadata": {
        "id": "view-in-github",
        "colab_type": "text"
      },
      "source": [
        "<a href=\"https://colab.research.google.com/github/De-Las-Alas/58009-DSAA/blob/main/Activity4_Queues.ipynb\" target=\"_parent\"><img src=\"https://colab.research.google.com/assets/colab-badge.svg\" alt=\"Open In Colab\"/></a>"
      ]
    },
    {
      "cell_type": "code",
      "source": [
        "queue = []\n",
        "\n",
        "queue.append('A')\n",
        "queue.append('B')\n",
        "queue.append('C')\n",
        "print(f'The added items in the queue are:\\n{queue}.')\n",
        "\n",
        "#dequeue items from queue/list\n",
        "print(f\"\\nIf {queue.pop(0)} is removed, then {queue} is/are left.\")\n",
        "print(f\"If {queue.pop(0)} is removed, then {queue} is/are left.\")\n",
        "print(f\"If {queue.pop(0)} is removed, then {queue} is/are left.\")"
      ],
      "metadata": {
        "id": "4VJ9TYZNpDAz",
        "outputId": "e8c15e0b-aa80-41ab-bc80-c5b4e87e5a57",
        "colab": {
          "base_uri": "https://localhost:8080/"
        }
      },
      "execution_count": 13,
      "outputs": [
        {
          "output_type": "stream",
          "name": "stdout",
          "text": [
            "The added items in the queue are:\n",
            "['A', 'B', 'C'].\n",
            "\n",
            "If A is removed, then ['B', 'C'] is/are left.\n",
            "If B is removed, then ['C'] is/are left.\n",
            "If C is removed, then [] is/are left.\n"
          ]
        }
      ]
    },
    {
      "cell_type": "code",
      "source": [
        "queue = []\n",
        "\n",
        "print(\"Everyone was instructed to form a line...\\n\")\n",
        "\n",
        "queue.append(str(input(\"Who entered the line first?:\\n\")))\n",
        "queue.append(str(input(\"Who entered next?:\\n\")))\n",
        "queue.append(str(input(\"Who after that?:\\n\")))\n",
        "queue.append(str(input(\"And after them?:\\n\")))\n",
        "queue.append(str(input(\"Who's last?:\\n\")))\n",
        "\n",
        "print(f'\\nThe people in the line from first to last are:')\n",
        "for i in queue:\n",
        "  print(i)\n",
        "\n",
        "for i in queue:\n",
        "  print(f\"\\n{queue.pop(0)} leaves and {queue} moves forward.\")\n",
        "  print(f\"\\n{queue.pop(0)} leaves and {queue} moves forward.\")\n",
        "\n",
        "print(f\"\\n{queue.pop(0)} leaves and the line is now empty.\")"
      ],
      "metadata": {
        "id": "kACpW_ktrqFe",
        "outputId": "8d2fa01b-840a-4da1-9367-d4f1b511fda2",
        "colab": {
          "base_uri": "https://localhost:8080/"
        }
      },
      "execution_count": 36,
      "outputs": [
        {
          "output_type": "stream",
          "name": "stdout",
          "text": [
            "Everyone was instructed to form a line...\n",
            "\n",
            "Who entered the line first?:\n",
            "Quincy\n",
            "Who entered next?:\n",
            "Warner\n",
            "Who after that?:\n",
            "Eugine\n",
            "And after them?:\n",
            "Robinson\n",
            "Who's last?:\n",
            "Thomas\n",
            "\n",
            "The people in the line from first to last are:\n",
            "Quincy\n",
            "Warner\n",
            "Eugine\n",
            "Robinson\n",
            "Thomas\n",
            "\n",
            "Quincy leaves and ['Warner', 'Eugine', 'Robinson', 'Thomas'] moves forward.\n",
            "\n",
            "Warner leaves and ['Eugine', 'Robinson', 'Thomas'] moves forward.\n",
            "\n",
            "Eugine leaves and ['Robinson', 'Thomas'] moves forward.\n",
            "\n",
            "Robinson leaves and ['Thomas'] moves forward.\n",
            "\n",
            "Thomas leaves and the line is now empty.\n"
          ]
        }
      ]
    }
  ],
  "metadata": {
    "colab": {
      "name": "Welcome To Colaboratory",
      "toc_visible": true,
      "provenance": [],
      "include_colab_link": true
    },
    "kernelspec": {
      "display_name": "Python 3",
      "name": "python3"
    }
  },
  "nbformat": 4,
  "nbformat_minor": 0
}