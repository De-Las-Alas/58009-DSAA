{
  "cells": [
    {
      "cell_type": "markdown",
      "metadata": {
        "id": "view-in-github",
        "colab_type": "text"
      },
      "source": [
        "<a href=\"https://colab.research.google.com/github/De-Las-Alas/58009-DSAA/blob/main/Long%20Quiz%201.ipynb\" target=\"_parent\"><img src=\"https://colab.research.google.com/assets/colab-badge.svg\" alt=\"Open In Colab\"/></a>"
      ]
    },
    {
      "cell_type": "markdown",
      "source": [
        "#1. Create a python or C++ program that appends each character of your full name and displays each character in reverse order (50 points)"
      ],
      "metadata": {
        "id": "FWihxtMo5yQR"
      }
    },
    {
      "cell_type": "code",
      "source": [
        "CharacterName = \"Reueben Jonn Magnaye De Las Alas\"\n",
        "x = CharacterName.split()[::-1]\n",
        "l = []\n",
        "for i in x:\n",
        "    l.append(i)\n",
        "print(\" \".join(l))"
      ],
      "metadata": {
        "id": "TfBuF4qM50pm",
        "outputId": "24654fbb-aad6-4841-943a-dbd300cb1f39",
        "colab": {
          "base_uri": "https://localhost:8080/"
        }
      },
      "execution_count": 12,
      "outputs": [
        {
          "output_type": "stream",
          "name": "stdout",
          "text": [
            "Alas Las De Magnaye Jonn Reueben\n"
          ]
        }
      ]
    },
    {
      "cell_type": "markdown",
      "source": [
        "#2. Using the set of positive whole numbers from 1 to 10, create a python or C++ program that displays if it is prime or composite. (50 points)\n"
      ],
      "metadata": {
        "id": "U_SwZkAK8l3i"
      }
    },
    {
      "cell_type": "code",
      "source": [
        "num = int(input(\"Enter any number : \"))\n",
        "if num > 1:\n",
        "\t    for i in range(2, num):\n",
        "\t        if (num % i) == 0:\n",
        "\t            print(num, \"is NOT a prime number\")\n",
        "\t            break\n",
        "\t    else:\n",
        "        print(num, \"is a PRIME number\")\n",
        "elif num == 0 or 1:\n",
        "\t    print(num, \"is a neither prime NOR composite number\")\n",
        "else:\n",
        "\t    print(num, \"is NOT a prime number it is a COMPOSITE number\")"
      ],
      "metadata": {
        "id": "LKLsQit98sdX",
        "outputId": "408cc483-270f-4697-a37e-633e161d06d2",
        "colab": {
          "base_uri": "https://localhost:8080/",
          "height": 141
        }
      },
      "execution_count": 120,
      "outputs": [
        {
          "output_type": "error",
          "ename": "IndentationError",
          "evalue": "ignored",
          "traceback": [
            "\u001b[0;36m  File \u001b[0;32m\"<tokenize>\"\u001b[0;36m, line \u001b[0;32m8\u001b[0m\n\u001b[0;31m    print(num, \"is a PRIME number\")\u001b[0m\n\u001b[0m    ^\u001b[0m\n\u001b[0;31mIndentationError\u001b[0m\u001b[0;31m:\u001b[0m unindent does not match any outer indentation level\n"
          ]
        }
      ]
    }
  ],
  "metadata": {
    "colab": {
      "name": "Welcome To Colaboratory",
      "provenance": [],
      "include_colab_link": true
    },
    "kernelspec": {
      "display_name": "Python 3",
      "name": "python3"
    }
  },
  "nbformat": 4,
  "nbformat_minor": 0
}