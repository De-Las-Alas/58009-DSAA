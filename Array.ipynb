{
  "cells": [
    {
      "cell_type": "markdown",
      "metadata": {
        "id": "view-in-github",
        "colab_type": "text"
      },
      "source": [
        "<a href=\"https://colab.research.google.com/github/De-Las-Alas/58009-DSAA/blob/main/Array.ipynb\" target=\"_parent\"><img src=\"https://colab.research.google.com/assets/colab-badge.svg\" alt=\"Open In Colab\"/></a>"
      ]
    },
    {
      "cell_type": "markdown",
      "source": [
        "Accessing the Elements in the Array (traversal)"
      ],
      "metadata": {
        "id": "w1U9PGuFb3MH"
      }
    },
    {
      "cell_type": "code",
      "source": [
        "animals = [\"cat\", \"dog\", \"fish\"]\n",
        "x = animals[0]\n",
        "print (x)"
      ],
      "metadata": {
        "id": "CrFairKUb0Uf",
        "outputId": "8155e67a-1dd2-49b1-bd90-10eb55f2abf5",
        "colab": {
          "base_uri": "https://localhost:8080/"
        }
      },
      "execution_count": 2,
      "outputs": [
        {
          "output_type": "stream",
          "name": "stdout",
          "text": [
            "cat\n"
          ]
        }
      ]
    },
    {
      "cell_type": "markdown",
      "source": [
        "Modifying the Elements in the Array (modify)"
      ],
      "metadata": {
        "id": "EOPPbk_9cjnE"
      }
    },
    {
      "cell_type": "code",
      "source": [
        "animals = [\"cat\", \"dog\", \"fish\"]\n",
        "animals[0] = \"monkey\"\n",
        "print (animals)"
      ],
      "metadata": {
        "id": "PtkapXqycm91",
        "outputId": "913ea266-c740-450f-8f95-dfd8a46e9512",
        "colab": {
          "base_uri": "https://localhost:8080/"
        }
      },
      "execution_count": 7,
      "outputs": [
        {
          "output_type": "stream",
          "name": "stdout",
          "text": [
            "['monkey', 'dog', 'fish']\n"
          ]
        }
      ]
    },
    {
      "cell_type": "markdown",
      "source": [
        "Length of an Array"
      ],
      "metadata": {
        "id": "FgsiJQYqc_o6"
      }
    },
    {
      "cell_type": "code",
      "source": [
        "animals = [\"cat\", \"dog\", \"fish\"]\n",
        "x = len(animals)\n",
        "print (x)"
      ],
      "metadata": {
        "id": "Et833AjqdDjy",
        "outputId": "ec81b27c-56f2-4d0e-8acb-3186f5860a62",
        "colab": {
          "base_uri": "https://localhost:8080/"
        }
      },
      "execution_count": 5,
      "outputs": [
        {
          "output_type": "stream",
          "name": "stdout",
          "text": [
            "3\n"
          ]
        }
      ]
    },
    {
      "cell_type": "markdown",
      "source": [
        "Looping Array Elements"
      ],
      "metadata": {
        "id": "GiyHfQxxdNhG"
      }
    },
    {
      "cell_type": "code",
      "source": [
        "animals = [\"cat\", \"dog\", \"fish\"]\n",
        "for x in animals:\n",
        "  print(x)"
      ],
      "metadata": {
        "id": "Tol2KHZedQOt",
        "outputId": "3ddb39b4-7be5-4d5f-8884-59341d4dffa0",
        "colab": {
          "base_uri": "https://localhost:8080/"
        }
      },
      "execution_count": 6,
      "outputs": [
        {
          "output_type": "stream",
          "name": "stdout",
          "text": [
            "cat\n",
            "dog\n",
            "fish\n"
          ]
        }
      ]
    },
    {
      "cell_type": "markdown",
      "source": [
        "Adding Elements in the Array (using append())"
      ],
      "metadata": {
        "id": "c4M6T9PieAZB"
      }
    },
    {
      "cell_type": "code",
      "source": [
        "animals = [\"cat\", \"dog\", \"fish\"]\n",
        "animals.append(\"monkey\")\n",
        "print(animals)"
      ],
      "metadata": {
        "id": "aD3NFfuQeFYI",
        "outputId": "de2c6d0c-5f2b-416f-b5d8-750aa74d5683",
        "colab": {
          "base_uri": "https://localhost:8080/"
        }
      },
      "execution_count": 12,
      "outputs": [
        {
          "output_type": "stream",
          "name": "stdout",
          "text": [
            "['cat', 'dog', 'fish', 'monkey']\n"
          ]
        }
      ]
    },
    {
      "cell_type": "markdown",
      "source": [
        "Adding Elements in the Array (using insert())"
      ],
      "metadata": {
        "id": "kefJOBDDgbZ1"
      }
    },
    {
      "cell_type": "code",
      "source": [
        "animals = [\"cat\", \"dog\", \"fish\"]\n",
        "animals.insert(0,\"monkey\")\n",
        "print(animals)"
      ],
      "metadata": {
        "id": "Qq1qqjuMfjhS",
        "outputId": "df1949a8-3276-4f54-b598-a2f25e378b5a",
        "colab": {
          "base_uri": "https://localhost:8080/"
        }
      },
      "execution_count": 18,
      "outputs": [
        {
          "output_type": "stream",
          "name": "stdout",
          "text": [
            "['monkey', 'cat', 'dog', 'fish']\n"
          ]
        }
      ]
    },
    {
      "cell_type": "code",
      "source": [
        "animals = [\"cat\", \"dog\", \"fish\"]\n",
        "animals.insert(1,\"monkey\")\n",
        "print(animals)"
      ],
      "metadata": {
        "id": "PLXPpBhIgK83",
        "outputId": "79220a25-1e51-421e-c477-8088630c8114",
        "colab": {
          "base_uri": "https://localhost:8080/"
        }
      },
      "execution_count": 19,
      "outputs": [
        {
          "output_type": "stream",
          "name": "stdout",
          "text": [
            "['cat', 'monkey', 'dog', 'fish']\n"
          ]
        }
      ]
    },
    {
      "cell_type": "code",
      "source": [
        "animals = [\"cat\", \"dog\", \"fish\"]\n",
        "animals.insert(2,\"monkey\")\n",
        "print(animals)"
      ],
      "metadata": {
        "id": "ihMm5lpJgNiA",
        "outputId": "17799e9b-0b62-4f3b-b34b-6406c5d55872",
        "colab": {
          "base_uri": "https://localhost:8080/"
        }
      },
      "execution_count": 20,
      "outputs": [
        {
          "output_type": "stream",
          "name": "stdout",
          "text": [
            "['cat', 'dog', 'monkey', 'fish']\n"
          ]
        }
      ]
    },
    {
      "cell_type": "markdown",
      "source": [
        "Removing an Element in the Array"
      ],
      "metadata": {
        "id": "G_Q2eF8Jejrx"
      }
    },
    {
      "cell_type": "code",
      "source": [
        "animals = [\"cat\", \"dog\", \"fish\"]\n",
        "animals.pop(1)\n",
        "print(animals)"
      ],
      "metadata": {
        "id": "E2X9DvvWem0u",
        "outputId": "112e1f68-1bbc-4f4d-ff37-e4e8d112beae",
        "colab": {
          "base_uri": "https://localhost:8080/"
        }
      },
      "execution_count": 13,
      "outputs": [
        {
          "output_type": "stream",
          "name": "stdout",
          "text": [
            "['cat', 'fish']\n"
          ]
        }
      ]
    },
    {
      "cell_type": "markdown",
      "source": [
        "Sorting Elements in the Array"
      ],
      "metadata": {
        "id": "_ek0A_b2gzo3"
      }
    },
    {
      "cell_type": "code",
      "source": [
        "def sortanim1(val):\n",
        "  return val[1]\n",
        "\n",
        "def sortanim2(val):\n",
        "  return val[2]\n",
        "\n",
        "animals = [\"cat\", \"dog\", \"fish\"]\n",
        "print(animals)\n",
        "\n",
        "animals.sort(reverse = True)\n",
        "print(animals)\n",
        "\n",
        "animals.sort(reverse = False)\n",
        "print(animals)\n",
        "\n",
        "animals.sort(key = sortanim1, reverse = False)\n",
        "print(animals)\n",
        "\n",
        "animals.sort(key = sortanim2, reverse = False)\n",
        "print(animals)"
      ],
      "metadata": {
        "id": "RjQtKMCug3aC",
        "outputId": "e432d10a-2f4c-46a2-8236-933ff722e543",
        "colab": {
          "base_uri": "https://localhost:8080/"
        }
      },
      "execution_count": 39,
      "outputs": [
        {
          "output_type": "stream",
          "name": "stdout",
          "text": [
            "['cat', 'dog', 'fish']\n",
            "['fish', 'dog', 'cat']\n",
            "['cat', 'dog', 'fish']\n",
            "['cat', 'fish', 'dog']\n",
            "['dog', 'fish', 'cat']\n"
          ]
        }
      ]
    }
  ],
  "metadata": {
    "colab": {
      "name": "Welcome To Colaboratory",
      "toc_visible": true,
      "provenance": [],
      "include_colab_link": true
    },
    "kernelspec": {
      "display_name": "Python 3",
      "name": "python3"
    }
  },
  "nbformat": 4,
  "nbformat_minor": 0
}