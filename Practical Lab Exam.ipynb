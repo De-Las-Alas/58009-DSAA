{
  "cells": [
    {
      "cell_type": "markdown",
      "metadata": {
        "id": "view-in-github",
        "colab_type": "text"
      },
      "source": [
        "<a href=\"https://colab.research.google.com/github/De-Las-Alas/58009-DSAA/blob/main/Practical%20Lab%20Exam.ipynb\" target=\"_parent\"><img src=\"https://colab.research.google.com/assets/colab-badge.svg\" alt=\"Open In Colab\"/></a>"
      ]
    },
    {
      "cell_type": "markdown",
      "source": [
        "Question 1\n",
        "\n",
        "1. Design an algorithm and the corresponding flowchart (Note: You may use LucidChart or any application) for adding the test scores as given below if the number is odd: 26,49,98,87,62,75\n",
        "2. Translate the algorithm to a Python program (using Google Colab)\n",
        "3. Save your source codes to GitHub\n",
        "4. Copy the link of your GitHub repository DSA 58009 here"
      ],
      "metadata": {
        "id": "oMzSLB-Vdsok"
      }
    },
    {
      "cell_type": "code",
      "source": [
        "score_list = [26, 49, 98, 87, 62, 75]\n",
        "\n",
        "print(\"Array of Scores: \")\n",
        "\n",
        "for x in score_list:\n",
        "  print(x, end=\" \")\n",
        "\n",
        "print(\"\\nOdd Numbers in Array:\")\n",
        "\n",
        "for x in score_list:\n",
        "  if x % 2 != 0:\n",
        "    print(x, end=\" \")\n",
        "\n",
        "print(\"\\nSum of Odd Numbers:\")\n",
        "\n",
        "def odd_numbers(score_list):\n",
        "  return sum([x for x in score_list if x % 2 == 1])\n",
        "print(odd_numbers(score_list))"
      ],
      "metadata": {
        "id": "MpX0DotXeB4m",
        "outputId": "0b64546a-53da-4249-ec99-3279983c7fa0",
        "colab": {
          "base_uri": "https://localhost:8080/"
        }
      },
      "execution_count": 28,
      "outputs": [
        {
          "output_type": "stream",
          "name": "stdout",
          "text": [
            "Array of Scores: \n",
            "26 49 98 87 62 75 \n",
            "Odd Numbers in Array:\n",
            "49 87 75 \n",
            "Sum of Odd Numbers:\n",
            "211\n"
          ]
        }
      ]
    }
  ],
  "metadata": {
    "colab": {
      "name": "Welcome To Colaboratory",
      "toc_visible": true,
      "provenance": [],
      "include_colab_link": true
    },
    "kernelspec": {
      "display_name": "Python 3",
      "name": "python3"
    }
  },
  "nbformat": 4,
  "nbformat_minor": 0
}